{
 "cells": [
  {
   "cell_type": "code",
   "execution_count": null,
   "id": "f66daa94",
   "metadata": {},
   "outputs": [],
   "source": [
    "#Name : Mitali Mishra\n",
    "#Roll no : 154\n",
    "#Problem Statement : Assignment based on Numpy arrays and functions (Numpy Library)"
   ]
  },
  {
   "cell_type": "code",
   "execution_count": 2,
   "id": "32457b93",
   "metadata": {},
   "outputs": [
    {
     "name": "stdout",
     "output_type": "stream",
     "text": [
      "2.3.2\n"
     ]
    }
   ],
   "source": [
    "import numpy as np #Import numpy library\n",
    "print(np.__version__) #Check Version"
   ]
  },
  {
   "cell_type": "code",
   "execution_count": 50,
   "id": "47ceb186",
   "metadata": {},
   "outputs": [
    {
     "name": "stdout",
     "output_type": "stream",
     "text": [
      "[[4 2 6]\n",
      " [8 1 7]\n",
      " [9 3 5]\n",
      " [2 7 5]]\n"
     ]
    }
   ],
   "source": [
    "import numpy as np\n",
    "arr=np.array([[4,2,6],[8,1,7],[9,3,5],[2,7,5]])\n",
    "print(arr) #printing array\n"
   ]
  },
  {
   "cell_type": "code",
   "execution_count": 51,
   "id": "e2a3ad11",
   "metadata": {},
   "outputs": [
    {
     "name": "stdout",
     "output_type": "stream",
     "text": [
      "(4, 3)\n"
     ]
    }
   ],
   "source": [
    "arr=np.array([[4,2,6],[8,1,7],[9,3,5],[2,7,5]])\n",
    "print(arr.shape) #shape(diamensions) of array"
   ]
  },
  {
   "cell_type": "code",
   "execution_count": 52,
   "id": "afedb7e1",
   "metadata": {},
   "outputs": [
    {
     "name": "stdout",
     "output_type": "stream",
     "text": [
      "int64\n"
     ]
    }
   ],
   "source": [
    "\n",
    "arr=np.array([[4,2,6],[8,1,7],[9,3,5],[2,7,5]])\n",
    "print(arr.dtype) #datatype of array"
   ]
  },
  {
   "cell_type": "code",
   "execution_count": 23,
   "id": "b4c6047b",
   "metadata": {},
   "outputs": [
    {
     "name": "stdout",
     "output_type": "stream",
     "text": [
      "[[4 2 6]\n",
      " [8 1 7]\n",
      " [9 3 5]\n",
      " [2 7 5]]\n",
      "(4, 3)\n",
      "int64\n"
     ]
    }
   ],
   "source": [
    "import numpy as np\n",
    "arr=np.array([[4,2,6],[8,1,7],[9,3,5],[2,7,5]])\n",
    "print(arr)\n",
    "print(arr.shape)\n",
    "print(arr.dtype)"
   ]
  },
  {
   "cell_type": "code",
   "execution_count": 53,
   "id": "80b49525",
   "metadata": {},
   "outputs": [
    {
     "name": "stdout",
     "output_type": "stream",
     "text": [
      "[[4 2 6 8]\n",
      " [1 7 9 3]\n",
      " [5 2 7 5]]\n"
     ]
    }
   ],
   "source": [
    "print(arr.reshape(3,4)) #reshape array\n"
   ]
  },
  {
   "cell_type": "code",
   "execution_count": null,
   "id": "aa431e73",
   "metadata": {},
   "outputs": [
    {
     "name": "stdout",
     "output_type": "stream",
     "text": [
      "[[2 1 5]\n",
      " [4 2 5]\n",
      " [8 3 6]\n",
      " [9 7 7]]\n",
      "[[2 4 6]\n",
      " [1 7 8]\n",
      " [3 5 9]\n",
      " [2 5 7]]\n"
     ]
    }
   ],
   "source": [
    "print(np.sort(arr,axis=0)) #sort the array column wise\n",
    "print(np.sort(arr,axis=1)) #sort the array row wise"
   ]
  },
  {
   "cell_type": "code",
   "execution_count": null,
   "id": "999fc573",
   "metadata": {},
   "outputs": [
    {
     "name": "stdout",
     "output_type": "stream",
     "text": [
      "1\n"
     ]
    }
   ],
   "source": [
    "print(arr.min()) #minimum value"
   ]
  },
  {
   "cell_type": "code",
   "execution_count": null,
   "id": "58155bb9",
   "metadata": {},
   "outputs": [
    {
     "name": "stdout",
     "output_type": "stream",
     "text": [
      "9\n"
     ]
    }
   ],
   "source": [
    "print(arr.max()) #maximum value"
   ]
  },
  {
   "cell_type": "code",
   "execution_count": null,
   "id": "0b2d0e22",
   "metadata": {},
   "outputs": [
    {
     "name": "stdout",
     "output_type": "stream",
     "text": [
      "[[4 8 9 2]\n",
      " [2 1 3 7]\n",
      " [6 7 5 5]]\n"
     ]
    }
   ],
   "source": [
    "print(arr.swapaxes(0,1)) #swap elements by index\n"
   ]
  },
  {
   "cell_type": "code",
   "execution_count": 39,
   "id": "fa1c188b",
   "metadata": {},
   "outputs": [
    {
     "name": "stdout",
     "output_type": "stream",
     "text": [
      "[[0 0 0 0 0 0 0 0]\n",
      " [0 0 0 0 0 0 0 0]\n",
      " [0 0 0 0 0 0 0 0]\n",
      " [0 0 0 0 0 0 0 0]\n",
      " [0 0 0 0 0 0 0 0]\n",
      " [0 0 0 0 0 0 0 0]\n",
      " [0 0 0 0 0 0 0 0]\n",
      " [0 0 0 0 0 0 0 0]\n",
      " [0 0 0 0 0 0 0 0]]\n",
      "(9, 8)\n",
      "int64\n"
     ]
    }
   ],
   "source": [
    "arr1=np.zeros((9,8),dtype=\"int\")\n",
    "print(arr1)\n",
    "print(arr1.shape)\n",
    "print(arr1.dtype)\n"
   ]
  },
  {
   "cell_type": "code",
   "execution_count": 41,
   "id": "c660bc4e",
   "metadata": {},
   "outputs": [
    {
     "name": "stdout",
     "output_type": "stream",
     "text": [
      "[0. 0. 0. 0. 0. 0. 0. 0.]\n"
     ]
    },
    {
     "data": {
      "text/plain": [
       "array([0, 0, 0, 0, 0, 0, 0, 0], dtype=int32)"
      ]
     },
     "execution_count": 41,
     "metadata": {},
     "output_type": "execute_result"
    }
   ],
   "source": [
    "import numpy as np\n",
    "zero_arr=np.zeros(8)\n",
    "print(zero_arr)\n",
    "zero_arr.dtype\n",
    "zero_arr.astype(np.int32)"
   ]
  },
  {
   "cell_type": "code",
   "execution_count": null,
   "id": "d9c869a0",
   "metadata": {},
   "outputs": [
    {
     "data": {
      "text/plain": [
       "array([[[4. , 2. , 6. ],\n",
       "        [8. , 1. , 7. ],\n",
       "        [9. , 3. , 5. ],\n",
       "        [2. , 7. , 5. ]],\n",
       "\n",
       "       [[3.7, 1.9, 5.5],\n",
       "        [7.3, 1. , 6.4],\n",
       "        [8.2, 2.8, 4.6],\n",
       "        [1.9, 6.4, 4.6]],\n",
       "\n",
       "       [[3.4, 1.8, 5. ],\n",
       "        [6.6, 1. , 5.8],\n",
       "        [7.4, 2.6, 4.2],\n",
       "        [1.8, 5.8, 4.2]],\n",
       "\n",
       "       [[3.1, 1.7, 4.5],\n",
       "        [5.9, 1. , 5.2],\n",
       "        [6.6, 2.4, 3.8],\n",
       "        [1.7, 5.2, 3.8]],\n",
       "\n",
       "       [[2.8, 1.6, 4. ],\n",
       "        [5.2, 1. , 4.6],\n",
       "        [5.8, 2.2, 3.4],\n",
       "        [1.6, 4.6, 3.4]],\n",
       "\n",
       "       [[2.5, 1.5, 3.5],\n",
       "        [4.5, 1. , 4. ],\n",
       "        [5. , 2. , 3. ],\n",
       "        [1.5, 4. , 3. ]],\n",
       "\n",
       "       [[2.2, 1.4, 3. ],\n",
       "        [3.8, 1. , 3.4],\n",
       "        [4.2, 1.8, 2.6],\n",
       "        [1.4, 3.4, 2.6]],\n",
       "\n",
       "       [[1.9, 1.3, 2.5],\n",
       "        [3.1, 1. , 2.8],\n",
       "        [3.4, 1.6, 2.2],\n",
       "        [1.3, 2.8, 2.2]],\n",
       "\n",
       "       [[1.6, 1.2, 2. ],\n",
       "        [2.4, 1. , 2.2],\n",
       "        [2.6, 1.4, 1.8],\n",
       "        [1.2, 2.2, 1.8]],\n",
       "\n",
       "       [[1.3, 1.1, 1.5],\n",
       "        [1.7, 1. , 1.6],\n",
       "        [1.8, 1.2, 1.4],\n",
       "        [1.1, 1.6, 1.4]],\n",
       "\n",
       "       [[1. , 1. , 1. ],\n",
       "        [1. , 1. , 1. ],\n",
       "        [1. , 1. , 1. ],\n",
       "        [1. , 1. , 1. ]]])"
      ]
     },
     "execution_count": 44,
     "metadata": {},
     "output_type": "execute_result"
    }
   ],
   "source": [
    "np.linspace(arr,1,11) "
   ]
  },
  {
   "cell_type": "code",
   "execution_count": 46,
   "id": "f7ec85c5",
   "metadata": {},
   "outputs": [
    {
     "name": "stdout",
     "output_type": "stream",
     "text": [
      "[[0. 0. 0. 0. 0. 0. 0.]\n",
      " [0. 0. 0. 0. 0. 0. 0.]\n",
      " [0. 0. 0. 0. 0. 0. 0.]\n",
      " [0. 0. 0. 0. 0. 0. 0.]\n",
      " [0. 0. 0. 0. 0. 0. 0.]]\n",
      "[[0 0 0 0 0 0 0]\n",
      " [0 0 0 0 0 0 0]\n",
      " [0 0 0 0 0 0 0]\n",
      " [0 0 0 0 0 0 0]\n",
      " [0 0 0 0 0 0 0]]\n"
     ]
    }
   ],
   "source": [
    "arr=np.zeros((5,7))\n",
    "print(arr)\n",
    "arr1=np.zeros((5,7),dtype=\"int\")\n",
    "print(arr1)"
   ]
  },
  {
   "cell_type": "code",
   "execution_count": 49,
   "id": "4fba3228",
   "metadata": {},
   "outputs": [
    {
     "name": "stdout",
     "output_type": "stream",
     "text": [
      "[[1. 1.]\n",
      " [1. 1.]\n",
      " [1. 1.]\n",
      " [1. 1.]\n",
      " [1. 1.]\n",
      " [1. 1.]\n",
      " [1. 1.]\n",
      " [1. 1.]\n",
      " [1. 1.]]\n",
      "[[1 1 1 1 1 1 1 1]\n",
      " [1 1 1 1 1 1 1 1]\n",
      " [1 1 1 1 1 1 1 1]\n",
      " [1 1 1 1 1 1 1 1]\n",
      " [1 1 1 1 1 1 1 1]]\n"
     ]
    }
   ],
   "source": [
    "arr=np.ones((9,2))\n",
    "print(arr)\n",
    "arr1=np.ones((5,8),dtype=\"int\")\n",
    "print(arr1)"
   ]
  },
  {
   "cell_type": "code",
   "execution_count": 54,
   "id": "4a416844",
   "metadata": {},
   "outputs": [
    {
     "name": "stdout",
     "output_type": "stream",
     "text": [
      "[1 2 3 4 5 6 7 8 9]\n",
      "1\n",
      "int64\n",
      "9\n"
     ]
    }
   ],
   "source": [
    "arr1=np.array([1,2,3,4,5,6,7,8,9]) #creating 1 dimensional array\n",
    "print(arr1)\n",
    "print(arr1.ndim) #prints dimension of array. Here array is 1 dimensional\n",
    "print(arr1.dtype) #prints datatype of array\n",
    "print(arr1.size) #prints no. of elements in array"
   ]
  },
  {
   "cell_type": "code",
   "execution_count": 55,
   "id": "0064b154",
   "metadata": {},
   "outputs": [
    {
     "name": "stdout",
     "output_type": "stream",
     "text": [
      "[[1. 2. 3.]\n",
      " [5. 6. 7.]]\n",
      "2\n",
      "float64\n",
      "6\n",
      "(2, 3)\n"
     ]
    }
   ],
   "source": [
    "arr2=np.array([[1.,2.,3.],[5.,6.,7.]]) # creating array 2 dimensional array\n",
    "print(arr2)\n",
    "print(arr2.ndim) # Here array is 2 dimensional\n",
    "print(arr2.dtype) \n",
    "print(arr2.size)\n",
    "print(arr2.shape) #prints (no. of rows,no. of columns) in an array"
   ]
  },
  {
   "cell_type": "code",
   "execution_count": 56,
   "id": "00ee8ea0",
   "metadata": {},
   "outputs": [
    {
     "name": "stdout",
     "output_type": "stream",
     "text": [
      "[[[ 1  2  3]\n",
      "  [ 4  5  6]]\n",
      "\n",
      " [[ 7  8  9]\n",
      "  [10 22 55]]]\n",
      "3\n",
      "int64\n",
      "12\n",
      "(2, 2, 3)\n"
     ]
    }
   ],
   "source": [
    "arr3=np.array([[[1,2,3],[4,5,6]],[[7,8,9],[10,22,55]]]) #creating 3 dimensional array\n",
    "print(arr3)\n",
    "print(arr3.ndim) # Here array is 3 dimensional\n",
    "print(arr3.dtype)\n",
    "print(arr3.size)\n",
    "print(arr3.shape)"
   ]
  },
  {
   "cell_type": "code",
   "execution_count": 57,
   "id": "82d163f8",
   "metadata": {},
   "outputs": [
    {
     "name": "stdout",
     "output_type": "stream",
     "text": [
      "[ 12  24  36  48  60  72  84  96 108 120 132 144]\n",
      "24\n",
      "132\n"
     ]
    }
   ],
   "source": [
    "arr4=np.array([12,24,36,48,60,72,84,96,108,120,132,144]) # creating array\n",
    "print(arr4)\n",
    "print(arr4[1]) #prints element of an array at index positiion 1 i.e from starting. Indexing starts from 0\n",
    "print(arr4[-2]) #prints element of an array at index positiion -2 i.e from backwards. Indexing starts from -1"
   ]
  },
  {
   "cell_type": "code",
   "execution_count": 58,
   "id": "1ad427fb",
   "metadata": {},
   "outputs": [
    {
     "name": "stdout",
     "output_type": "stream",
     "text": [
      "[ 2  3  4  5  6  7  8  9 10]\n"
     ]
    }
   ],
   "source": [
    "store=np.arange(2,11) #arranges the array from 2 to n-1 i.e 10\n",
    "print(store)"
   ]
  },
  {
   "cell_type": "code",
   "execution_count": 59,
   "id": "de7e9ba1",
   "metadata": {},
   "outputs": [
    {
     "name": "stdout",
     "output_type": "stream",
     "text": [
      "[[ 12  24  36]\n",
      " [ 48  60  72]\n",
      " [ 84  96 108]\n",
      " [120 132 144]]\n"
     ]
    }
   ],
   "source": [
    "temp=arr4.reshape(4,3) # reshaping the array4 in 4 rows and 3 columns with its existing elements\n",
    "print(temp)"
   ]
  },
  {
   "cell_type": "code",
   "execution_count": 64,
   "id": "f75371d8",
   "metadata": {},
   "outputs": [
    {
     "name": "stdout",
     "output_type": "stream",
     "text": [
      "Addition :  [125 111 189]\n",
      "Subtraction :  [-15 -53  -9]\n",
      "Multiplication :  [3850 2378 8910]\n",
      "Division :  [0.78571429 0.35365854 0.90909091]\n",
      "Power :  [-3093511129017067407  6209081803628514185                    0]\n"
     ]
    }
   ],
   "source": [
    "x=np.array([55,29,90])\n",
    "y=np.array([70,82,99])\n",
    "print(\"Addition : \",x+y) # Add two arrays\n",
    "print(\"Subtraction : \",x-y) # Subtract two arrays\n",
    "print(\"Multiplication : \",x*y) # Multiply two arrays\n",
    "print(\"Division : \",x/y) # Divide two arrays\n",
    "print(\"Power : \",x**y) # Power of x raised to y"
   ]
  },
  {
   "cell_type": "code",
   "execution_count": 61,
   "id": "f48fa48c",
   "metadata": {},
   "outputs": [
    {
     "name": "stdout",
     "output_type": "stream",
     "text": [
      "[1 2 3 4 5 6 7 8 9]\n",
      "9\n",
      "1\n",
      "8\n",
      "0\n"
     ]
    }
   ],
   "source": [
    "print(arr1)\n",
    "print(arr1.max()) # prints max element in an array\n",
    "print(arr1.min()) # prints min element in an array\n",
    "print(np.argmax(arr1)) # prints index of max element in an array\n",
    "print(np.argmin(arr1)) # prints index of min element in an array"
   ]
  },
  {
   "cell_type": "code",
   "execution_count": 62,
   "id": "a03d5cc5",
   "metadata": {},
   "outputs": [
    {
     "name": "stdout",
     "output_type": "stream",
     "text": [
      "[1 2 3 4 5 6 7 8 9]\n",
      "[1 1 1 1 1 1 1 1]\n"
     ]
    }
   ],
   "source": [
    "print(arr1)\n",
    "print(np.diff(arr1)) # prints the diffference between two consecutive elements in an array. Here difference is 1 because each element in the array appears serially"
   ]
  },
  {
   "cell_type": "code",
   "execution_count": 63,
   "id": "f78ea42c",
   "metadata": {},
   "outputs": [
    {
     "data": {
      "text/plain": [
       "array([ 8.        , 13.28571429, 18.57142857, 23.85714286, 29.14285714,\n",
       "       34.42857143, 39.71428571, 45.        ])"
      ]
     },
     "execution_count": 63,
     "metadata": {},
     "output_type": "execute_result"
    }
   ],
   "source": [
    "np.linspace(8,45,num=8) # prints the values assigned to num in the specified range. Here specified range is 8 to 45"
   ]
  }
 ],
 "metadata": {
  "kernelspec": {
   "display_name": "Python 3",
   "language": "python",
   "name": "python3"
  },
  "language_info": {
   "codemirror_mode": {
    "name": "ipython",
    "version": 3
   },
   "file_extension": ".py",
   "mimetype": "text/x-python",
   "name": "python",
   "nbconvert_exporter": "python",
   "pygments_lexer": "ipython3",
   "version": "3.13.7"
  }
 },
 "nbformat": 4,
 "nbformat_minor": 5
}
