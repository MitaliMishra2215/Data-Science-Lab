{
 "cells": [
  {
   "cell_type": "code",
   "execution_count": null,
   "id": "5c0f43d8",
   "metadata": {},
   "outputs": [
    {
     "name": "stdout",
     "output_type": "stream",
     "text": [
      "  Student  Gender    Stream  Attendance  Study Hours/Week Grade  \\\n",
      "0       A    Male   Science          85                10     B   \n",
      "1       B  Female  Commerce          92                14     A   \n",
      "2       C    Male      Arts          75                 7     C   \n",
      "3       D  Female   Science          88                11     B   \n",
      "4       E    Male  Commerce          60                 6     D   \n",
      "\n",
      "  Hostel Resident  \n",
      "0             Yes  \n",
      "1              No  \n",
      "2             Yes  \n",
      "3              No  \n",
      "4             Yes  \n"
     ]
    }
   ],
   "source": [
    "import pandas as pd\n",
    "\n",
    "data = {\n",
    "    'Student': ['A', 'B', 'C', 'D', 'E'],\n",
    "    'Gender': ['Male', 'Female', 'Male', 'Female', 'Male'], \n",
    "    'Stream': ['Science', 'Commerce', 'Arts', 'Science', 'Commerce'],\n",
    "    'Attendance': [85, 92, 75, 88, 60],\n",
    "    'Study Hours/Week': [10, 14, 7, 11, 6],\n",
    "    'Grade': ['B', 'A', 'C', 'B', 'D'],\n",
    "    'Hostel Resident': ['Yes', 'No', 'Yes', 'No', 'Yes']\n",
    "}\n",
    "\n",
    "df = pd.DataFrame(data)\n",
    "\n",
    "print(df)\n"
   ]
  },
  {
   "cell_type": "code",
   "execution_count": 6,
   "id": "d6281171",
   "metadata": {},
   "outputs": [
    {
     "name": "stdout",
     "output_type": "stream",
     "text": [
      "Student: Qualitative - Nominal\n",
      "\n",
      "Gender: Qualitative - Nominal\n",
      "\n",
      "Stream: Qualitative - Nominal\n",
      "\n",
      "Attendance: Quantitative - Discrete\n",
      "\n",
      "Study Hours/Week: Quantitative - Discrete\n",
      "\n",
      "Grade: Qualitative - Ordinal\n",
      "\n",
      "Hostel Resident: Qualitative - Nominal\n",
      "\n"
     ]
    }
   ],
   "source": [
    "column_types = {\n",
    "    'Student': 'Qualitative - Nominal',\n",
    "    'Gender': 'Qualitative - Nominal',\n",
    "    'Stream': 'Qualitative - Nominal',\n",
    "    'Attendance': 'Quantitative - Discrete',\n",
    "    'Study Hours/Week': 'Quantitative - Discrete',\n",
    "    'Grade': 'Qualitative - Ordinal',\n",
    "    'Hostel Resident': 'Qualitative - Nominal'\n",
    "}\n",
    "\n",
    "for col, col_type in column_types.items():\n",
    "    print(f\"{col}: {col_type}\\n\")  # \\n adds a blank line after each\n"
   ]
  },
  {
   "cell_type": "code",
   "execution_count": 13,
   "id": "0959a445",
   "metadata": {},
   "outputs": [
    {
     "name": "stdout",
     "output_type": "stream",
     "text": [
      "Student             object\n",
      "Gender              object\n",
      "Stream              object\n",
      "Attendance           int64\n",
      "Study Hours/Week     int64\n",
      "Grade               object\n",
      "Hostel Resident     object\n",
      "dtype: object\n"
     ]
    }
   ],
   "source": [
    "import pandas as pd\n",
    "\n",
    "data = {\n",
    "    'Student': ['A', 'B', 'C', 'D', 'E'],\n",
    "    'Gender': ['Male', 'Female', 'Male', 'Female', 'Male'],\n",
    "    'Stream': ['Science', 'Commerce', 'Arts', 'Science', 'Commerce'],\n",
    "    'Attendance': [85, 92, 75, 88, 60],\n",
    "    'Study Hours/Week': [10, 14, 7, 11, 6],\n",
    "    'Grade': ['B', 'A', 'C', 'B', 'D'],\n",
    "    'Hostel Resident': ['Yes', 'No', 'Yes', 'No', 'Yes']\n",
    "}\n",
    "\n",
    "df = pd.DataFrame(data)\n",
    "\n",
    "print(df.dtypes)\n"
   ]
  }
 ],
 "metadata": {
  "kernelspec": {
   "display_name": "Python 3",
   "language": "python",
   "name": "python3"
  },
  "language_info": {
   "codemirror_mode": {
    "name": "ipython",
    "version": 3
   },
   "file_extension": ".py",
   "mimetype": "text/x-python",
   "name": "python",
   "nbconvert_exporter": "python",
   "pygments_lexer": "ipython3",
   "version": "3.11.9"
  }
 },
 "nbformat": 4,
 "nbformat_minor": 5
}
