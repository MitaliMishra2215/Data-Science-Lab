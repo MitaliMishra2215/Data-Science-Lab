{
 "cells": [
  {
   "cell_type": "code",
   "execution_count": 35,
   "id": "ba5ace1c-7b19-4899-be4f-135ea493b0d0",
   "metadata": {},
   "outputs": [
    {
     "name": "stdout",
     "output_type": "stream",
     "text": [
      "[0 0 0 0 0]\n"
     ]
    }
   ],
   "source": [
    "# NAME : Mishra Mitali Devidas \n",
    "# Roll no : 163\n",
    "# Batch : T1\n",
    "# Assignmnet No : 1\n",
    "import numpy as np; print(np.zeros(5, dtype=np.int32))"
   ]
  },
  {
   "cell_type": "code",
   "execution_count": 14,
   "id": "346b8154-3794-4d56-b3e0-6d3b76bd6821",
   "metadata": {},
   "outputs": [
    {
     "name": "stdout",
     "output_type": "stream",
     "text": [
      "2.1.3\n"
     ]
    }
   ],
   "source": [
    "import numpy as np\n",
    "print(np.__version__)"
   ]
  },
  {
   "cell_type": "code",
   "execution_count": 42,
   "id": "8b0e6630-8aff-40f8-b71e-67eb91736200",
   "metadata": {},
   "outputs": [
    {
     "name": "stdout",
     "output_type": "stream",
     "text": [
      "[[ 1  2  3]\n",
      " [ 4  5  6]\n",
      " [ 7  8  9]\n",
      " [10 11 12]]\n",
      "(4, 3)\n",
      "int64\n"
     ]
    }
   ],
   "source": [
    "import numpy as np\n",
    "\n",
    "arr=np.array([ [1, 2, 3], [4, 5, 6], [7, 8, 9], [10, 11, 12]])\n",
    "print(arr)\n",
    "print(arr.shape)\n",
    "print(arr.dtype)"
   ]
  },
  {
   "cell_type": "code",
   "execution_count": 38,
   "id": "614aad18-275a-4acb-8445-29dfaa2fc080",
   "metadata": {},
   "outputs": [
    {
     "name": "stdout",
     "output_type": "stream",
     "text": [
      "[0. 0. 0. 0. 0.]\n"
     ]
    }
   ],
   "source": [
    "import numpy as np; print(np.zeros(5, dtype=float))"
   ]
  },
  {
   "cell_type": "code",
   "execution_count": 46,
   "id": "97278db2-7e5e-42f7-aa29-c9c44cc20158",
   "metadata": {},
   "outputs": [
    {
     "name": "stdout",
     "output_type": "stream",
     "text": [
      "[[1 2 3]\n",
      " [4 5 6]]\n"
     ]
    }
   ],
   "source": [
    "a = np.array([1, 2, 3, 4, 5, 6])\n",
    "print(a.reshape(2, 3))"
   ]
  },
  {
   "cell_type": "code",
   "execution_count": 53,
   "id": "85fea663-4fd5-4368-b89e-44f75b1f0458",
   "metadata": {},
   "outputs": [
    {
     "name": "stdout",
     "output_type": "stream",
     "text": [
      "7\n"
     ]
    }
   ],
   "source": [
    "a = np.array([[1, 5], [7, 2]]) \n",
    "print(a.max())      \n"
   ]
  },
  {
   "cell_type": "code",
   "execution_count": 58,
   "id": "1899a701-67c7-4ccc-a7cf-57c89e6ad704",
   "metadata": {},
   "outputs": [
    {
     "name": "stdout",
     "output_type": "stream",
     "text": [
      "[[1 3]\n",
      " [2 4]]\n"
     ]
    }
   ],
   "source": [
    "import numpy as np\n",
    "a = np.array([[1, 2], [3, 4]])\n",
    "print(np.swapaxes(a, 0, 1)) "
   ]
  },
  {
   "cell_type": "code",
   "execution_count": 67,
   "id": "7e384da8-262e-4ec5-8c4f-ea13b5019423",
   "metadata": {},
   "outputs": [
    {
     "name": "stdout",
     "output_type": "stream",
     "text": [
      "[0.   0.25 0.5  0.75 1.  ]\n"
     ]
    }
   ],
   "source": [
    "a = np.linspace(0, 1, 5)  \n",
    "print(a)"
   ]
  },
  {
   "cell_type": "code",
   "execution_count": 63,
   "id": "a522dee6-a31b-41be-89e9-2638ba84c783",
   "metadata": {},
   "outputs": [
    {
     "name": "stdout",
     "output_type": "stream",
     "text": [
      "[1 1 1 1 1]\n"
     ]
    }
   ],
   "source": [
    "import numpy as np\n",
    "print(np.ones(5, dtype=np.int32))"
   ]
  },
  {
   "cell_type": "code",
   "execution_count": 65,
   "id": "b1ba04fe-46df-495d-a7bd-5b60d5d41267",
   "metadata": {},
   "outputs": [
    {
     "name": "stdout",
     "output_type": "stream",
     "text": [
      "[   1    5    6    7    8    9   34   35   56   67   78  221  232  989\n",
      " 2533]\n"
     ]
    }
   ],
   "source": [
    "import numpy as np\n",
    "a=np.array([5,7,9,78,1,232,56,6,8,35,2533,67,989,221,34])\n",
    "print(np.sort(a))"
   ]
  },
  {
   "cell_type": "code",
   "execution_count": 11,
   "id": "1a3eb351-c328-46da-b1f1-3ded84bf665b",
   "metadata": {},
   "outputs": [
    {
     "name": "stdout",
     "output_type": "stream",
     "text": [
      "Original [[8 2 5]\n",
      " [4 9 1]\n",
      " [7 6 3]]\n"
     ]
    }
   ],
   "source": [
    "import numpy as np\n",
    "a = np.array([[8, 2, 5], [4, 9, 1], [7, 6, 3]])\n",
    "print(\"Original\", a)"
   ]
  },
  {
   "cell_type": "code",
   "execution_count": 12,
   "id": "b5f10056-2d23-4350-9204-5118cdd20e32",
   "metadata": {},
   "outputs": [
    {
     "name": "stdout",
     "output_type": "stream",
     "text": [
      "Original array:\n",
      " [[3 2 1]\n",
      " [6 5 4]\n",
      " [9 7 8]]\n",
      "\n",
      "Sort in axis=0:\n",
      " [[3 2 1]\n",
      " [6 5 4]\n",
      " [9 7 8]]\n",
      "\n",
      "Sort in axis=1:\n",
      " [[1 2 3]\n",
      " [4 5 6]\n",
      " [7 8 9]]\n"
     ]
    }
   ],
   "source": [
    "import numpy as np\n",
    "arr = np.array([[3, 2, 1],[6, 5, 4],[9, 7, 8]])\n",
    "print(\"Original array:\\n\", arr)\n",
    "print(\"\\nSort in axis=0:\\n\", np.sort(arr, axis=0))\n",
    "print(\"\\nSort in axis=1:\\n\", np.sort(arr, axis=1))"
   ]
  },
  {
   "cell_type": "code",
   "execution_count": 13,
   "id": "fbe8e512-f0ec-4b52-9f79-7006f23c272f",
   "metadata": {},
   "outputs": [
    {
     "name": "stdout",
     "output_type": "stream",
     "text": [
      "max element 9\n",
      "min element 1\n",
      "[ 1.    3.25  5.5   7.75 10.  ]\n"
     ]
    }
   ],
   "source": [
    "print(\"max element\", np.max(arr))\n",
    "print(\"min element\", np.min(arr))\n",
    "print(np.linspace(1, 10, num=5))"
   ]
  },
  {
   "cell_type": "code",
   "execution_count": 16,
   "id": "2b5149b3-9f88-4a51-bee5-1c830c4ea3b1",
   "metadata": {},
   "outputs": [
    {
     "name": "stdout",
     "output_type": "stream",
     "text": [
      "[[0 0 0]\n",
      " [0 0 0]\n",
      " [0 0 0]\n",
      " [0 0 0]]\n",
      "(4, 3)\n",
      "int64\n",
      "12\n"
     ]
    }
   ],
   "source": [
    "arr1 = np.zeros((4, 3), dtype=\"int\")\n",
    "print(arr1)\n",
    "print(arr1.shape)\n",
    "print(arr1.dtype)\n",
    "print(arr1.size)"
   ]
  },
  {
   "cell_type": "code",
   "execution_count": 17,
   "id": "e3a0c3c5-a19d-46cd-aebe-779535fb6707",
   "metadata": {},
   "outputs": [
    {
     "name": "stdout",
     "output_type": "stream",
     "text": [
      "Dimension: 1\n"
     ]
    }
   ],
   "source": [
    "array1 = np.array([1, 2, 3, 4, 5, 6, 7])\n",
    "print(\"Dimension:\", array1.ndim)"
   ]
  },
  {
   "cell_type": "code",
   "execution_count": 18,
   "id": "c539f02b-5a11-4aca-b01b-a03d2ccca952",
   "metadata": {},
   "outputs": [
    {
     "name": "stdout",
     "output_type": "stream",
     "text": [
      "Size: 7\n"
     ]
    }
   ],
   "source": [
    "print(\"Size:\", array1.size)"
   ]
  },
  {
   "cell_type": "code",
   "execution_count": 19,
   "id": "8b86d5ff-3927-4a52-9aa9-cf15872c192b",
   "metadata": {},
   "outputs": [
    {
     "name": "stdout",
     "output_type": "stream",
     "text": [
      "Shape: (7,)\n"
     ]
    }
   ],
   "source": [
    "print(\"Shape:\", array1.shape)"
   ]
  },
  {
   "cell_type": "code",
   "execution_count": 21,
   "id": "264b9c87-2d05-4070-be5f-db3cf4144ccf",
   "metadata": {},
   "outputs": [
    {
     "name": "stdout",
     "output_type": "stream",
     "text": [
      "Second element: 2\n"
     ]
    }
   ],
   "source": [
    "print(\"Second element:\", array1[1])"
   ]
  },
  {
   "cell_type": "code",
   "execution_count": 22,
   "id": "3e9d379b-a0b7-439f-8726-0bb31854f7ec",
   "metadata": {},
   "outputs": [
    {
     "name": "stdout",
     "output_type": "stream",
     "text": [
      "Last element: 7\n"
     ]
    }
   ],
   "source": [
    "print(\"Last element:\", array1[-1])"
   ]
  },
  {
   "cell_type": "code",
   "execution_count": 23,
   "id": "80731968-7176-4168-93db-4b748eeea77d",
   "metadata": {},
   "outputs": [
    {
     "name": "stdout",
     "output_type": "stream",
     "text": [
      "[[ 2  3  4]\n",
      " [ 5  6  7]\n",
      " [ 8  9 10]]\n"
     ]
    }
   ],
   "source": [
    "array1 = np.arange(2, 11)\n",
    "b = array1.reshape(3, 3)\n",
    "print(b)"
   ]
  },
  {
   "cell_type": "code",
   "execution_count": 24,
   "id": "2188add1-ba61-49f3-8046-f387ddf8794c",
   "metadata": {},
   "outputs": [
    {
     "name": "stdout",
     "output_type": "stream",
     "text": [
      "[[1 2 3]\n",
      " [2 3 4]]\n",
      "[[10 11 12]\n",
      " [13 14 15]]\n",
      "------------------\n",
      "[[11 13 15]\n",
      " [15 17 19]]\n"
     ]
    }
   ],
   "source": [
    "x = np.array([[1, 2, 3], [2, 3, 4]])\n",
    "y = np.array([[10, 11, 12], [13, 14, 15]])\n",
    "print(x)\n",
    "print(y)\n",
    "z = x + y\n",
    "print(\"------------------\")\n",
    "print(z)"
   ]
  },
  {
   "cell_type": "code",
   "execution_count": 25,
   "id": "d84dd18e-985b-400c-918c-79b5e3cfc7cb",
   "metadata": {},
   "outputs": [
    {
     "name": "stdout",
     "output_type": "stream",
     "text": [
      "------------------\n",
      "[[ -9  -9  -9]\n",
      " [-11 -11 -11]]\n"
     ]
    }
   ],
   "source": [
    "z = x - y\n",
    "print(\"------------------\")\n",
    "print(z)"
   ]
  },
  {
   "cell_type": "code",
   "execution_count": 26,
   "id": "2fd4e8a7-2d74-4dc7-8e07-8abbcbea85fe",
   "metadata": {},
   "outputs": [
    {
     "name": "stdout",
     "output_type": "stream",
     "text": [
      "------------------\n",
      "[[10 22 36]\n",
      " [26 42 60]]\n"
     ]
    }
   ],
   "source": [
    "z = x * y\n",
    "print(\"------------------\")\n",
    "print(z)"
   ]
  },
  {
   "cell_type": "code",
   "execution_count": 27,
   "id": "875fd94b-63a2-4e72-86b4-fbdf426572e0",
   "metadata": {},
   "outputs": [
    {
     "name": "stdout",
     "output_type": "stream",
     "text": [
      "------------------\n",
      "[[0.1        0.18181818 0.25      ]\n",
      " [0.15384615 0.21428571 0.26666667]]\n"
     ]
    }
   ],
   "source": [
    "z = x / y\n",
    "print(\"------------------\")\n",
    "print(z)"
   ]
  },
  {
   "cell_type": "code",
   "execution_count": 28,
   "id": "e163c0df-df66-4f31-a59b-6a0894cb0d72",
   "metadata": {},
   "outputs": [
    {
     "name": "stdout",
     "output_type": "stream",
     "text": [
      "------------------\n",
      "[[         1       2048     531441]\n",
      " [      8192    4782969 1073741824]]\n"
     ]
    }
   ],
   "source": [
    "z = x ** y\n",
    "print(\"------------------\")\n",
    "print(z)"
   ]
  },
  {
   "cell_type": "code",
   "execution_count": 29,
   "id": "d6513644-c6cc-4c0f-8da6-2124ab92f267",
   "metadata": {},
   "outputs": [
    {
     "name": "stdout",
     "output_type": "stream",
     "text": [
      "Index of maximum value: 3\n",
      "Maximum value: 30\n"
     ]
    }
   ],
   "source": [
    "arr = np.array([10, 20, 5, 30, 25])\n",
    "max_index = np.argmax(arr)\n",
    "print(\"Index of maximum value:\", max_index)\n",
    "print(\"Maximum value:\", arr[max_index])"
   ]
  },
  {
   "cell_type": "code",
   "execution_count": 30,
   "id": "ab79ded5-a5ed-454f-bd43-b55484e4b792",
   "metadata": {},
   "outputs": [
    {
     "name": "stdout",
     "output_type": "stream",
     "text": [
      "Index of minimum value: 2\n",
      "Minimum value: 5\n"
     ]
    }
   ],
   "source": [
    "min_index = np.argmin(arr)\n",
    "print(\"Index of minimum value:\", min_index)\n",
    "print(\"Minimum value:\", arr[min_index])"
   ]
  },
  {
   "cell_type": "code",
   "execution_count": null,
   "id": "52c2cdb6-0113-4a26-b934-774c6ac0aae5",
   "metadata": {},
   "outputs": [],
   "source": []
  }
 ],
 "metadata": {
  "kernelspec": {
   "display_name": "Python 3 (ipykernel)",
   "language": "python",
   "name": "python3"
  },
  "language_info": {
   "codemirror_mode": {
    "name": "ipython",
    "version": 3
   },
   "file_extension": ".py",
   "mimetype": "text/x-python",
   "name": "python",
   "nbconvert_exporter": "python",
   "pygments_lexer": "ipython3",
   "version": "3.13.5"
  }
 },
 "nbformat": 4,
 "nbformat_minor": 5
}
