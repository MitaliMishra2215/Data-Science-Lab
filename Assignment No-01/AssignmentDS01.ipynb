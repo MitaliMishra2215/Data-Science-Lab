{
 "cells": [
  {
   "cell_type": "code",
   "execution_count": 14,
   "id": "346b8154-3794-4d56-b3e0-6d3b76bd6821",
   "metadata": {},
   "outputs": [
    {
     "name": "stdout",
     "output_type": "stream",
     "text": [
      "2.1.3\n"
     ]
    }
   ],
   "source": [
    "import numpy as np\n",
    "print(np.__version__)"
   ]
  },
  {
   "cell_type": "code",
   "execution_count": 35,
   "id": "ba5ace1c-7b19-4899-be4f-135ea493b0d0",
   "metadata": {},
   "outputs": [
    {
     "name": "stdout",
     "output_type": "stream",
     "text": [
      "[0 0 0 0 0]\n"
     ]
    }
   ],
   "source": [
    "import numpy as np; print(np.zeros(5, dtype=np.int32))\n",
    "\n"
   ]
  },
  {
   "cell_type": "code",
   "execution_count": 42,
   "id": "8b0e6630-8aff-40f8-b71e-67eb91736200",
   "metadata": {},
   "outputs": [
    {
     "name": "stdout",
     "output_type": "stream",
     "text": [
      "[[ 1  2  3]\n",
      " [ 4  5  6]\n",
      " [ 7  8  9]\n",
      " [10 11 12]]\n",
      "(4, 3)\n",
      "int64\n"
     ]
    }
   ],
   "source": [
    "import numpy as np\n",
    "\n",
    "arr=np.array([ [1, 2, 3], [4, 5, 6], [7, 8, 9], [10, 11, 12]])\n",
    "print(arr)\n",
    "print(arr.shape)\n",
    "print(arr.dtype)"
   ]
  },
  {
   "cell_type": "code",
   "execution_count": 38,
   "id": "614aad18-275a-4acb-8445-29dfaa2fc080",
   "metadata": {},
   "outputs": [
    {
     "name": "stdout",
     "output_type": "stream",
     "text": [
      "[0. 0. 0. 0. 0.]\n"
     ]
    }
   ],
   "source": [
    "import numpy as np; print(np.zeros(5, dtype=float))"
   ]
  },
  {
   "cell_type": "code",
   "execution_count": 46,
   "id": "97278db2-7e5e-42f7-aa29-c9c44cc20158",
   "metadata": {},
   "outputs": [
    {
     "name": "stdout",
     "output_type": "stream",
     "text": [
      "[[1 2 3]\n",
      " [4 5 6]]\n"
     ]
    }
   ],
   "source": [
    "a = np.array([1, 2, 3, 4, 5, 6])\n",
    "print(a.reshape(2, 3))"
   ]
  },
  {
   "cell_type": "code",
   "execution_count": 53,
   "id": "85fea663-4fd5-4368-b89e-44f75b1f0458",
   "metadata": {},
   "outputs": [
    {
     "name": "stdout",
     "output_type": "stream",
     "text": [
      "7\n"
     ]
    }
   ],
   "source": [
    "a = np.array([[1, 5], [7, 2]]) \n",
    "print(a.max())      \n"
   ]
  },
  {
   "cell_type": "code",
   "execution_count": 58,
   "id": "1899a701-67c7-4ccc-a7cf-57c89e6ad704",
   "metadata": {},
   "outputs": [
    {
     "name": "stdout",
     "output_type": "stream",
     "text": [
      "[[1 3]\n",
      " [2 4]]\n"
     ]
    }
   ],
   "source": [
    "import numpy as np\n",
    "a = np.array([[1, 2], [3, 4]])\n",
    "print(np.swapaxes(a, 0, 1)) "
   ]
  },
  {
   "cell_type": "code",
   "execution_count": 67,
   "id": "7e384da8-262e-4ec5-8c4f-ea13b5019423",
   "metadata": {},
   "outputs": [
    {
     "name": "stdout",
     "output_type": "stream",
     "text": [
      "[0.   0.25 0.5  0.75 1.  ]\n"
     ]
    }
   ],
   "source": [
    "a = np.linspace(0, 1, 5)  \n",
    "print(a)"
   ]
  },
  {
   "cell_type": "code",
   "execution_count": 63,
   "id": "a522dee6-a31b-41be-89e9-2638ba84c783",
   "metadata": {},
   "outputs": [
    {
     "name": "stdout",
     "output_type": "stream",
     "text": [
      "[1 1 1 1 1]\n"
     ]
    }
   ],
   "source": [
    "import numpy as np\n",
    "print(np.ones(5, dtype=np.int32))\n"
   ]
  },
  {
   "cell_type": "code",
   "execution_count": 65,
   "id": "b1ba04fe-46df-495d-a7bd-5b60d5d41267",
   "metadata": {},
   "outputs": [
    {
     "name": "stdout",
     "output_type": "stream",
     "text": [
      "[   1    5    6    7    8    9   34   35   56   67   78  221  232  989\n",
      " 2533]\n"
     ]
    }
   ],
   "source": [
    "import numpy as np\n",
    "a=np.array([5,7,9,78,1,232,56,6,8,35,2533,67,989,221,34])\n",
    "print(np.sort(a))"
   ]
  },
  {
   "cell_type": "code",
   "execution_count": 70,
   "id": "1a3eb351-c328-46da-b1f1-3ded84bf665b",
   "metadata": {},
   "outputs": [
    {
     "name": "stdout",
     "output_type": "stream",
     "text": [
      "Original [[8 2 5]\n",
      " [4 9 1]\n",
      " [7 6 3]]\n",
      "Row-wise sort (axis=1) [[2 5 8]\n",
      " [1 4 9]\n",
      " [3 6 7]]\n",
      "Column-wise sort (axis=0) [[4 2 1]\n",
      " [7 6 3]\n",
      " [8 9 5]]\n"
     ]
    }
   ],
   "source": [
    "import numpy as np\n",
    "\n",
    "a = np.array([[8, 2, 5],\n",
    "              [4, 9, 1],\n",
    "              [7, 6, 3]])\n",
    "\n",
    "print(\"Original\", a)\n",
    "\n",
    "\n"
   ]
  },
  {
   "cell_type": "code",
   "execution_count": null,
   "id": "0911c551-6914-4ade-859e-e335a952e861",
   "metadata": {},
   "outputs": [],
   "source": []
  }
 ],
 "metadata": {
  "kernelspec": {
   "display_name": "Python 3 (ipykernel)",
   "language": "python",
   "name": "python3"
  },
  "language_info": {
   "codemirror_mode": {
    "name": "ipython",
    "version": 3
   },
   "file_extension": ".py",
   "mimetype": "text/x-python",
   "name": "python",
   "nbconvert_exporter": "python",
   "pygments_lexer": "ipython3",
   "version": "3.13.5"
  }
 },
 "nbformat": 4,
 "nbformat_minor": 5
}
